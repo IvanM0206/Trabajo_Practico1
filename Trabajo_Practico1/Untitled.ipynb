{
 "cells": [
  {
   "cell_type": "code",
   "execution_count": 10,
   "id": "7591b631-09fb-464b-9de5-06715b1f8166",
   "metadata": {},
   "outputs": [
    {
     "name": "stdout",
     "output_type": "stream",
     "text": [
      "The autoreload extension is already loaded. To reload it, use:\n",
      "  %reload_ext autoreload\n"
     ]
    }
   ],
   "source": [
    "%load_ext autoreload\n",
    "%autoreload 2\n",
    "from matricesRalas import MatrizRala\n",
    "from Gauss_Jordan import GaussJordan\n",
    "from funciones_utiles import norma"
   ]
  },
  {
   "cell_type": "code",
   "execution_count": 11,
   "id": "ee415cce-b92d-4249-8308-3fd6b2fc9dc6",
   "metadata": {},
   "outputs": [],
   "source": [
    "# defino a la matriz {A, ..., K} como los índices {0, ..., 10} (o lo que es lo mismo {1,...,11})\n",
    "W = MatrizRala(11,11)\n",
    "W[0,2] = 1\n",
    "W[0,3] = 1\n",
    "W[0,4] = 1\n",
    "W[1,0] = 1\n",
    "W[4, 10] = 1\n",
    "W[5,0] = 1\n",
    "W[5, 6] = 1\n",
    "W[6, 0] = 1\n",
    "W[6, 7] = 1\n",
    "W[6, 8] = 1\n",
    "W[7, 8] = 1\n",
    "W[8, 5] = 1\n",
    "W[9, 8] = 1\n",
    "\n",
    "D = MatrizRala(11,11)\n",
    "D[0,0] = 1/3\n",
    "D[2,2] = 1\n",
    "D[3,3] = 1\n",
    "D[4,4] = 1\n",
    "D[5,5] = 1\n",
    "D[6,6] = 1\n",
    "D[7,7] = 1\n",
    "D[8,8] = 1/3\n",
    "D[10,10] = 1\n",
    "\n",
    "unos = unos = MatrizRala(11,1)\n",
    "for i in range(11):\n",
    "    unos[i,0]=1\n",
    "d=0.85"
   ]
  },
  {
   "cell_type": "markdown",
   "id": "fbf0c7db-4ab6-439a-9c91-7e43243e0721",
   "metadata": {},
   "source": [
    "Si el sistema converge, se tiene que:\n",
    "\n",
    "$\\textbf{p*} = \\frac{1-d}{N}*\\mathbb{1} + dWD\\textbf{p*}$ \n",
    "\n",
    "Reemplazando con $d=0,85$ y $N = 11$, y despejando en función de $\\textbf{p*}$ queda que:\n",
    "\n",
    "$(\\mathbb{I} - dWD) \\textbf{p*} = \\frac{0,15}{11}*\\mathbb{1}$ \n",
    "\n",
    "\n",
    "DSP HACEMOS GJ CON ESTAS MATRICES\n",
    "\n",
    "2- USAR EL METODO ITERATIVO y GRAFICAR\n",
    "Para realizar la comparación, graficar la diferencia absoluta entre pt y p∗ para valores de t hasta\n",
    "ver que converge."
   ]
  },
  {
   "cell_type": "code",
   "execution_count": 12,
   "id": "f132231d-02da-4d34-8d90-830ee5321129",
   "metadata": {},
   "outputs": [
    {
     "name": "stdout",
     "output_type": "stream",
     "text": [
      "MatrizRala([ \n",
      "    [ 0.058261363636363646 ]\n",
      "    [ 0.030143750000000004 ]\n",
      "    [ 0.01363636363636364 ]\n",
      "    [ 0.01363636363636364 ]\n",
      "    [ 0.02522727272727273 ]\n",
      "    [ 0.11539510774418678 ]\n",
      "    [ 0.10029571499316091 ]\n",
      "    [ 0.04529098844839165 ]\n",
      "    [ 0.11172220521892239 ]\n",
      "    [ 0.04529098844839165 ]\n",
      "    [ 0.01363636363636364 ]\n",
      "])\n"
     ]
    }
   ],
   "source": [
    "# Con GJ\n",
    "\n",
    "b = MatrizRala(W.shape[0], 1)\n",
    "\n",
    "for nro_fila in range(b.shape[0]):\n",
    "    b[nro_fila, 0] = (1 - d) / (b.shape[0])\n",
    "\n",
    "Id = MatrizRala(W.shape[0], W.shape[1])\n",
    "for nro_fila in range(Id.shape[0]):\n",
    "    Id[nro_fila, nro_fila] = 1\n",
    "\n",
    "# SE CONSTRUYE DE A = I - d * W @ D\n",
    "\n",
    "A = Id - d * W @ D\n",
    "\n",
    "solucion = GaussJordan(A,b)\n",
    "print(solucion)"
   ]
  },
  {
   "cell_type": "code",
   "execution_count": 13,
   "id": "521b02d0-d0f1-4029-8813-9180a972a62a",
   "metadata": {},
   "outputs": [
    {
     "name": "stdout",
     "output_type": "stream",
     "text": [
      "MatrizRala([ \n",
      "    [ 0.058261363636363646 ]\n",
      "    [ 0.030143750000000004 ]\n",
      "    [ 0.01363636363636364 ]\n",
      "    [ 0.01363636363636364 ]\n",
      "    [ 0.02522727272727273 ]\n",
      "    [ 0.11539510774418682 ]\n",
      "    [ 0.10029571499316095 ]\n",
      "    [ 0.04529098844839167 ]\n",
      "    [ 0.11172220521892244 ]\n",
      "    [ 0.04529098844839167 ]\n",
      "    [ 0.01363636363636364 ]\n",
      "])\n"
     ]
    }
   ],
   "source": [
    "# Método iterativo\n",
    "import time\n",
    "\n",
    "# Recordemos W, D y d\n",
    "epsilon1 = 0.000001 # Arbitrario\n",
    "\n",
    "p_t = MatrizRala(11,1)\n",
    "for i in range(11):\n",
    "    p_t[i,0] = 1/11\n",
    "\n",
    "i = 0\n",
    "\n",
    "while i == 0 or norma(p_next - p_t) > 0:\n",
    "    if (i != 0):\n",
    "        p_t = p_next\n",
    "    \n",
    "    inicio = time.time()\n",
    "    \n",
    "    p_next = unos * ((1 - d) / 11) + d * W @ D @ p_t\n",
    "\n",
    "    fin = time.time()\n",
    "\n",
    "    i += 1\n",
    "    \n",
    "print(p_next)\n",
    "\n"
   ]
  },
  {
   "cell_type": "code",
   "execution_count": 31,
   "id": "d4b83b63-03fb-4456-bd74-19f6c52c65ef",
   "metadata": {},
   "outputs": [],
   "source": [
    "# Matrices papers\n",
    "import csv\n",
    "\n",
    "N = 0\n",
    "citas_recibidas = {}\n",
    "citados = []\n",
    "# citas es un dict que para todo paper me dice quienes lo citaron (lista de ids)\n",
    "# y me dice a cuantos cita en la posición 0\n",
    "\n",
    "with open('papers/papers.csv', newline='') as csvfile:\n",
    "    papers = csv.DictReader(csvfile)\n",
    "    for row in papers:\n",
    "        N+= 1\n",
    "        citados.append(0)\n",
    "\n",
    "\n",
    "with open('papers/citas.csv', newline='') as csvfile:\n",
    "    quotations = csv.DictReader(csvfile)\n",
    "    for row in quotations:\n",
    "        if int(row[\"to\"]) not in citas_recibidas.keys():\n",
    "          citas_recibidas[int(row[\"to\"])] = [int(row[\"from\"])]\n",
    "        else:\n",
    "          citas_recibidas[int(row[\"to\"])].append(int(row[\"from\"])) \n",
    "        \n",
    "        citados[int(row[\"from\"])] += 1\n",
    "        \n",
    "# Armamos W\n",
    "W = MatrizRala(N,N)\n",
    "for i in citas_recibidas.keys():\n",
    "  for j in citas_recibidas[i]:\n",
    "    W[i, j] = 1\n",
    "\n",
    "# Armamos D\n",
    "D = MatrizRala(N,N)\n",
    "for i in range(N):\n",
    "  if (citados[i] != 0):\n",
    "    D[i,i] = 1/citados[i]\n",
    "\n",
    "unos = MatrizRala(N,1)\n",
    "for i in range(N):\n",
    "    unos[i,0]=1"
   ]
  },
  {
   "cell_type": "code",
   "execution_count": 33,
   "id": "034b806f-72b3-4115-b900-0d0746ad94fc",
   "metadata": {},
   "outputs": [
    {
     "name": "stdout",
     "output_type": "stream",
     "text": [
      "1.58777035759764e-06\n",
      "2.3816555363964602e-07\n",
      "25.57753896713257 s\n"
     ]
    }
   ],
   "source": [
    "import time\n",
    "d = 0.85\n",
    "\n",
    "p_t = MatrizRala(N,1)\n",
    "for i in range(N):\n",
    "    p_t[i,0] = 1/N\n",
    "\n",
    "print(p_t[0,0])\n",
    "\n",
    "start = time.time()\n",
    "p_next = unos * ((1-d)/N) + d*W@D@p_t\n",
    "end = time.time()\n",
    "\n",
    "print(p_next[0,0])\n",
    "print(end-start, \"s\")"
   ]
  }
 ],
 "metadata": {
  "kernelspec": {
   "display_name": "Python 3 (ipykernel)",
   "language": "python",
   "name": "python3"
  },
  "language_info": {
   "codemirror_mode": {
    "name": "ipython",
    "version": 3
   },
   "file_extension": ".py",
   "mimetype": "text/x-python",
   "name": "python",
   "nbconvert_exporter": "python",
   "pygments_lexer": "ipython3",
   "version": "3.10.5"
  }
 },
 "nbformat": 4,
 "nbformat_minor": 5
}
