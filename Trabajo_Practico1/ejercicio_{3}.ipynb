{
 "cells": [
  {
   "cell_type": "code",
   "execution_count": 1,
   "id": "7591b631-09fb-464b-9de5-06715b1f8166",
   "metadata": {},
   "outputs": [],
   "source": [
    "from matricesRalas import MatrizRala"
   ]
  },
  {
   "cell_type": "code",
   "execution_count": 2,
   "id": "ee415cce-b92d-4249-8308-3fd6b2fc9dc6",
   "metadata": {},
   "outputs": [],
   "source": [
    "# defino a la matriz {A, ..., K} como los índices {0, ..., 10} (o lo que es lo mismo {1,...,11})\n",
    "W = MatrizRala(11,11)\n",
    "W[0,2] = 1\n",
    "W[0,3] = 1\n",
    "W[0,4] = 1\n",
    "W[1,1] = 1\n",
    "W[4, 10] = 1\n",
    "W[5,0] = 1\n",
    "W[5, 6] = 1\n",
    "W[6, 0] = 1\n",
    "W[6, 7] = 1\n",
    "W[6, 8] = 1\n",
    "W[7, 8] = 1\n",
    "W[8, 5] = 1\n",
    "W[9, 8] = 1\n",
    "\n",
    "D = MatrizRala(11,11)\n",
    "D[0,0] = 1/3\n",
    "D[2,2] = 1\n",
    "D[3,3] = 1\n",
    "D[4,4] = 1\n",
    "D[5,5] = 1\n",
    "D[6,6] = 1\n",
    "D[7,7] = 1\n",
    "D[8,8] = 1/2\n",
    "D[10,10] = 1\n",
    "\n",
    "unos = unos = MatrizRala(11,1)\n",
    "for i in range(11):\n",
    "    unos[i,0]=1"
   ]
  },
  {
   "cell_type": "markdown",
   "id": "fbf0c7db-4ab6-439a-9c91-7e43243e0721",
   "metadata": {},
   "source": [
    "Si el sistema converge, se tiene que:\n",
    "\n",
    "$\\textbf{p*} = \\frac{1-d}{N}*\\mathbb{1} + dWD\\textbf{p*}$ \n",
    "\n",
    "Reemplazando con $d=0,85$ y $N = 11$, y despejando en función de $\\textbf{p*}$ queda que:\n",
    "\n",
    "$(\\mathbb{I} - dWD) \\textbf{p*} = \\frac{0,15}{11}*\\mathbb{1}$ \n",
    "\n",
    "\n",
    "DSP HACEMOS GJ CON ESTAS MATRICES\n",
    "\n",
    "2- USAR EL METODO ITERATIVO y GRAFICAR\n",
    "Para realizar la comparaci ́on, graficar la diferencia absoluta entre pt y p∗ para valores de t hasta\n",
    "ver que converge."
   ]
  },
  {
   "cell_type": "code",
   "execution_count": 3,
   "id": "f132231d-02da-4d34-8d90-830ee5321129",
   "metadata": {},
   "outputs": [],
   "source": [
    "# Con GJ"
   ]
  },
  {
   "cell_type": "code",
   "execution_count": 4,
   "id": "521b02d0-d0f1-4029-8813-9180a972a62a",
   "metadata": {},
   "outputs": [
    {
     "name": "stdout",
     "output_type": "stream",
     "text": [
      "0.09090909090909091\n",
      "0.24545454545454545\n",
      "0.0002732276916503906 s\n"
     ]
    }
   ],
   "source": [
    "# Método iterativo\n",
    "import time\n",
    "d = 0.85\n",
    "\n",
    "p_t = MatrizRala(11,1)\n",
    "for i in range(11):\n",
    "    p_t[i,0] = 1/11\n",
    "\n",
    "print(p_t[0,0])\n",
    "\n",
    "start = time.time()\n",
    "p_next = unos * ((1-d)/11) + d*W@D@p_t\n",
    "end = time.time()\n",
    "\n",
    "print(p_next[0,0])\n",
    "print(end-start, \"s\")"
   ]
  },
  {
   "cell_type": "code",
   "execution_count": 5,
   "id": "d4b83b63-03fb-4456-bd74-19f6c52c65ef",
   "metadata": {},
   "outputs": [],
   "source": [
    "# Matrices papers\n",
    "import csv\n",
    "\n",
    "N = 0\n",
    "citas_recibidas = {}\n",
    "citados = []\n",
    "# citas es un dict que para todo paper me dice quienes lo citaron (lista de ids)\n",
    "# y me dice a cuantos cita en la posición 0\n",
    "\n",
    "with open('papers/citas.csv', newline='') as csvfile:\n",
    "    quotations = csv.DictReader(csvfile)\n",
    "    for row in quotations:\n",
    "        N += 1\n",
    "        \n",
    "        if int(row[\"to\"])-1 not in citas_recibidas.keys():\n",
    "          citas_recibidas[int(row[\"to\"])-1] = [int(row[\"from\"])-1]\n",
    "        else:\n",
    "          citas_recibidas[int(row[\"to\"])-1].append(int(row[\"from\"])-1) \n",
    "\n",
    "    for i in range(N):\n",
    "      citados.append(0)\n",
    "\n",
    "\n",
    "with open('papers/citas.csv', newline='') as csvfile:\n",
    "    quotations = csv.DictReader(csvfile)\n",
    "    for row in quotations:\n",
    "        citados[int(row[\"from\"])-1] += 1\n",
    "\n",
    "# Armamos W\n",
    "W = MatrizRala(N,N)\n",
    "for i in citas_recibidas.keys():\n",
    "  for j in citas_recibidas[i]:\n",
    "    W[i, j] = 1\n",
    "\n",
    "# Armamos D\n",
    "D = MatrizRala(N,N)\n",
    "for i in range(N):\n",
    "  if (citados[i] != 0):\n",
    "    D[i,i] = 1/citados[i]\n",
    "\n",
    "unos = MatrizRala(N,1)\n",
    "for i in range(N):\n",
    "    unos[i,0]=1"
   ]
  },
  {
   "cell_type": "code",
   "execution_count": 6,
   "id": "034b806f-72b3-4115-b900-0d0746ad94fc",
   "metadata": {},
   "outputs": [
    {
     "name": "stdout",
     "output_type": "stream",
     "text": [
      "1.5804005050960014e-06\n"
     ]
    },
    {
     "ename": "KeyboardInterrupt",
     "evalue": "",
     "output_type": "error",
     "traceback": [
      "\u001b[0;31m---------------------------------------------------------------------------\u001b[0m",
      "\u001b[0;31mKeyboardInterrupt\u001b[0m                         Traceback (most recent call last)",
      "Cell \u001b[0;32mIn[6], line 11\u001b[0m\n\u001b[1;32m      8\u001b[0m \u001b[38;5;28mprint\u001b[39m(p_t[\u001b[38;5;241m0\u001b[39m,\u001b[38;5;241m0\u001b[39m])\n\u001b[1;32m     10\u001b[0m start \u001b[38;5;241m=\u001b[39m time\u001b[38;5;241m.\u001b[39mtime()\n\u001b[0;32m---> 11\u001b[0m p_next \u001b[38;5;241m=\u001b[39m unos \u001b[38;5;241m*\u001b[39m ((\u001b[38;5;241m1\u001b[39m\u001b[38;5;241m-\u001b[39md)\u001b[38;5;241m/\u001b[39mN) \u001b[38;5;241m+\u001b[39m \u001b[43md\u001b[49m\u001b[38;5;241;43m*\u001b[39;49m\u001b[43mW\u001b[49m\u001b[38;5;129;43m@D\u001b[39;49m\u001b[38;5;129m@p_t\u001b[39m\n\u001b[1;32m     12\u001b[0m end \u001b[38;5;241m=\u001b[39m time\u001b[38;5;241m.\u001b[39mtime()\n\u001b[1;32m     14\u001b[0m \u001b[38;5;28mprint\u001b[39m(p_next[\u001b[38;5;241m0\u001b[39m,\u001b[38;5;241m0\u001b[39m])\n",
      "File \u001b[0;32m~/LTD/metodos/Trabajo_Practico1/Trabajo_Practico1/matricesRalas.py:313\u001b[0m, in \u001b[0;36mMatrizRala.__matmul__\u001b[0;34m(self, other)\u001b[0m\n\u001b[1;32m    310\u001b[0m \u001b[38;5;28;01mwhile\u001b[39;00m nodoSelf \u001b[38;5;129;01mis\u001b[39;00m \u001b[38;5;129;01mnot\u001b[39;00m \u001b[38;5;28;01mNone\u001b[39;00m:\n\u001b[1;32m    311\u001b[0m     filaObjetivo \u001b[38;5;241m=\u001b[39m nodoSelf\u001b[38;5;241m.\u001b[39mvalor[\u001b[38;5;241m0\u001b[39m]\n\u001b[0;32m--> 313\u001b[0m     \u001b[38;5;28;01mif\u001b[39;00m filaObjetivo \u001b[38;5;129;01min\u001b[39;00m \u001b[43mother\u001b[49m\u001b[38;5;241;43m.\u001b[39;49m\u001b[43mfilas\u001b[49m\u001b[38;5;241;43m.\u001b[39;49m\u001b[43mkeys\u001b[49m\u001b[43m(\u001b[49m\u001b[43m)\u001b[49m:\n\u001b[1;32m    314\u001b[0m         nodoOther \u001b[38;5;241m=\u001b[39m other\u001b[38;5;241m.\u001b[39mfilas[filaObjetivo]\u001b[38;5;241m.\u001b[39mraiz\n\u001b[1;32m    315\u001b[0m         end \u001b[38;5;241m=\u001b[39m \u001b[38;5;28;01mFalse\u001b[39;00m\n",
      "\u001b[0;31mKeyboardInterrupt\u001b[0m: "
     ]
    }
   ],
   "source": [
    "import time\n",
    "d = 0.85\n",
    "\n",
    "p_t = MatrizRala(N,1)\n",
    "for i in range(N):\n",
    "    p_t[i,0] = 1/N\n",
    "\n",
    "print(p_t[0,0])\n",
    "\n",
    "start = time.time()\n",
    "p_next = unos * ((1-d)/N) + d*W@D@p_t\n",
    "end = time.time()\n",
    "\n",
    "print(p_next[0,0])\n",
    "print(end-start, \"s\")"
   ]
  }
 ],
 "metadata": {
  "kernelspec": {
   "display_name": "Python 3 (ipykernel)",
   "language": "python",
   "name": "python3"
  },
  "language_info": {
   "codemirror_mode": {
    "name": "ipython",
    "version": 3
   },
   "file_extension": ".py",
   "mimetype": "text/x-python",
   "name": "python",
   "nbconvert_exporter": "python",
   "pygments_lexer": "ipython3",
   "version": "3.10.13"
  }
 },
 "nbformat": 4,
 "nbformat_minor": 5
}
