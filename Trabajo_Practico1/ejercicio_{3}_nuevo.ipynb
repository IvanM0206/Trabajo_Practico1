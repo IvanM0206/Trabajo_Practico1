{
 "cells": [
  {
   "cell_type": "markdown",
   "id": "79ec288f",
   "metadata": {},
   "source": [
    "# Ejercicio 3\n",
    "Iván Mondrzak y Federico Peitti"
   ]
  },
  {
   "cell_type": "code",
   "execution_count": 1,
   "id": "7591b631-09fb-464b-9de5-06715b1f8166",
   "metadata": {},
   "outputs": [],
   "source": [
    "from matricesRalas import MatrizRala\n",
    "from GaussJordan import GaussJordan\n",
    "from funciones_utiles import norma\n",
    "import matplotlib.pyplot as plt"
   ]
  },
  {
   "cell_type": "markdown",
   "id": "092e088b",
   "metadata": {},
   "source": [
    "Dado el grafo $\\mathnormal{G} = (\\mathnormal{N}, \\mathnormal{A})$ en donde $\\mathnormal{N}$ es el conjunto de papers $\\{\\mathbf{A}, ... , \\mathbf{K}\\}$ (lo representamos como el conjunto $\\{0, 1, ... , n\\}$ ) y $\\mathnormal{A}$ son los arcos dirigidos, los cuales represetan las citas. Se tiene que un arco $(i,j) \\in \\mathnormal{A}$ con los nodos $i,j  \\in \\mathnormal{N} \\Leftrightarrow i$ cita a $j$.\n",
    "\n",
    "De este modo, definimos una entrada $w_{ij}$ de la matriz $\\mathnormal{W} \\in \\mathbb{R}^{n \\times n}$ (tomada del enunciado) como:\n",
    "\n",
    "$$   \n",
    "w_{ij} =\n",
    "\\begin{cases}\n",
    "  1 & \\text{si} \\; j \\;\\text{cita a}\\; i\\\\\n",
    "  0 & \\text{si no}\n",
    "\\end{cases}\n",
    "$$\n",
    "\n",
    "Del mismo modo, definimos la entrada $d_{ii}$ de la matriz diagonal $\\mathnormal{D} \\in \\mathbb{R}^{n \\times n}$ (tomada del enunciado) como:\n",
    "\n",
    "$$   \n",
    "d_{ii} =\n",
    "\\begin{cases}\n",
    "  \\frac{1}{c_{i}} & \\text{si} \\; c_{i} \\neq 0 \\\\\n",
    "  0 & \\text{si} \\; c_{i} = 0\n",
    "\\end{cases}\n",
    "$$\n",
    "\n",
    "En donde $c_{i}$ es la cantidad de citas hechas por el $paper$ $i$:\n",
    "$$\n",
    "c_{i} = \\sum_{k = 0}^{n} w_{ki}\n",
    "$$"
   ]
  },
  {
   "cell_type": "code",
   "execution_count": 2,
   "id": "ee415cce-b92d-4249-8308-3fd6b2fc9dc6",
   "metadata": {},
   "outputs": [],
   "source": [
    "# Matriz W\n",
    "W = MatrizRala(11,11)\n",
    "W[0,2] = 1\n",
    "W[0,3] = 1\n",
    "W[0,4] = 1\n",
    "W[1,0] = 1\n",
    "W[4, 10] = 1\n",
    "W[5,0] = 1\n",
    "W[5, 6] = 1\n",
    "W[6, 0] = 1\n",
    "W[6, 7] = 1\n",
    "W[6, 8] = 1\n",
    "W[7, 8] = 1\n",
    "W[8, 5] = 1\n",
    "W[9, 8] = 1\n",
    "\n",
    "# Matriz D\n",
    "D = MatrizRala(11,11)\n",
    "D[0,0] = 1/3\n",
    "D[2,2] = 1\n",
    "D[3,3] = 1\n",
    "D[4,4] = 1\n",
    "D[5,5] = 1\n",
    "D[6,6] = 1\n",
    "D[7,7] = 1\n",
    "D[8,8] = 1/3\n",
    "D[10,10] = 1\n",
    "\n",
    "# Armamos el vector de 1's\n",
    "unos = unos = MatrizRala(11,1)\n",
    "for i in range(11):\n",
    "    unos[i,0] = 1"
   ]
  },
  {
   "cell_type": "markdown",
   "id": "9b5ca471",
   "metadata": {},
   "source": [
    "Si el sistema converge, se tiene que ($1$ es el vector de todos unos):\n",
    "\n",
    "$\\textbf{p*} = \\frac{1-d}{n}*\\mathbb{1} + dWD\\textbf{p*}$ \n",
    "\n",
    "Reemplazando con $d=0,85$ y $n = 11$, y despejando en función de $\\textbf{p*}$ queda que:\n",
    "\n",
    "$(\\mathbb{I} - dWD) \\textbf{p*} = \\frac{0,15}{11}*\\mathbb{1}$ \n",
    "\n",
    "Ahora, se puede resolver la ecuación matricial usando Gauss-Jordan"
   ]
  },
  {
   "cell_type": "code",
   "execution_count": 3,
   "id": "f132231d-02da-4d34-8d90-830ee5321129",
   "metadata": {},
   "outputs": [
    {
     "name": "stdout",
     "output_type": "stream",
     "text": [
      "La solución al sistema es: MatrizRala([ \n",
      "    [ 0.058261363636363646 ]\n",
      "    [ 0.030143750000000004 ]\n",
      "    [ 0.01363636363636364 ]\n",
      "    [ 0.01363636363636364 ]\n",
      "    [ 0.02522727272727273 ]\n",
      "    [ 0.11539510774418678 ]\n",
      "    [ 0.10029571499316091 ]\n",
      "    [ 0.04529098844839165 ]\n",
      "    [ 0.11172220521892239 ]\n",
      "    [ 0.04529098844839165 ]\n",
      "    [ 0.01363636363636364 ]\n",
      "])\n"
     ]
    }
   ],
   "source": [
    "# Con GJ\n",
    "d = 0.85\n",
    "\n",
    "b = MatrizRala(W.shape[0], 1)\n",
    "\n",
    "# b = (0.15/11) * vector de unos \n",
    "for nro_fila in range(b.shape[0]):\n",
    "    b[nro_fila, 0] = (1 - d) / (b.shape[0])\n",
    "\n",
    "# Matriz identidad de 11x11\n",
    "Id = MatrizRala(W.shape[0], W.shape[1])\n",
    "for nro_fila in range(Id.shape[0]):\n",
    "    Id[nro_fila, nro_fila] = 1\n",
    "\n",
    "# SE CONSTRUYE A = Id - d * W @ D\n",
    "A = Id - d * W @ D\n",
    "\n",
    "solucion = GaussJordan(A,b)\n",
    "print(\"La solución al sistema es:\", solucion)"
   ]
  },
  {
   "cell_type": "markdown",
   "id": "fbd86703",
   "metadata": {},
   "source": [
    "Ahora queremos analizar la convergencia del sistema de forma iterativa. Para ello iteramos siguiendo la ecuación $\\textbf{p}_{t+1} = \\frac{1-d}{N}*\\mathbb{1} + dWD\\textbf{p}_{t}$  hasta que $\\|(\\textbf{p}_{t+1} - \\textbf{p}_{t})\\| < \\varepsilon$ con $\\varepsilon \\rightarrow 0^{+}$\n",
    "\n",
    "Ademas queremos graficar como se va modificando $\\|(\\textbf{p}_{t} - \\textbf{p*})\\|$ entre cada iteración a medida que $t$ aumenta."
   ]
  },
  {
   "cell_type": "code",
   "execution_count": 7,
   "id": "521b02d0-d0f1-4029-8813-9180a972a62a",
   "metadata": {},
   "outputs": [
    {
     "name": "stdout",
     "output_type": "stream",
     "text": [
      "En 130 iteraciones, el método iterativo convergió al siguiente vector:\n",
      "MatrizRala([ \n",
      "    [ 0.058261363636363646 ]\n",
      "    [ 0.030143750000000004 ]\n",
      "    [ 0.01363636363636364 ]\n",
      "    [ 0.01363636363636364 ]\n",
      "    [ 0.02522727272727273 ]\n",
      "    [ 0.11539510774418682 ]\n",
      "    [ 0.10029571499316095 ]\n",
      "    [ 0.04529098844839167 ]\n",
      "    [ 0.11172220521892244 ]\n",
      "    [ 0.04529098844839167 ]\n",
      "    [ 0.01363636363636364 ]\n",
      "])\n"
     ]
    },
    {
     "data": {
      "image/png": "[encoded data removed]",
      "text/plain": [
       "<Figure size 640x480 with 1 Axes>"
      ]
     },
     "metadata": {},
     "output_type": "display_data"
    }
   ],
   "source": [
    "# Método iterativo\n",
    "# Recordemos W, D y d\n",
    "\n",
    "# Construimos p_0 asumiendo una distribución inicial equiprobable\n",
    "p_t = MatrizRala(11,1)\n",
    "for i in range(11):\n",
    "    p_t[i,0] = 1/11\n",
    "\n",
    "i = 0\n",
    "\n",
    "# Lista de diferencias de normas.\n",
    "# Para todo i (0 <= i <= |diferencias|) se tiene que, posicion diferencias[i] = norma(p_i - p*)\n",
    "diferencias = []\n",
    "\n",
    "while i == 0 or norma(p_next-p_t) > 0:\n",
    "    if (i != 0):\n",
    "        p_t = p_next\n",
    "    \n",
    "    p_next = unos * ((1 - d) / 11) + d * W @ D @ p_t\n",
    "\n",
    "    diferencias.append(norma(p_next-solucion))\n",
    "\n",
    "    i += 1\n",
    "\n",
    "print(f\"En {i} iteraciones, el método iterativo convergió al siguiente vector:\")\n",
    "print(p_next)\n",
    "\n",
    "\n",
    "# Gráfico\n",
    "xs = [x+1 for x in range(len(diferencias))]\n",
    "graf, ejes = plt.subplots()\n",
    "plt.plot(xs, diferencias)\n",
    "ejes.set_xlabel(\"Cant. iteraciones (t)\")\n",
    "ejes.set_ylabel(\"Diferencia observada\")\n",
    "ejes.set_xticks([1,10,20,30,40,50,60,70,80,90,100,110,120,130])\n",
    "plt.show()\n",
    "plt.close()\n",
    "\n"
   ]
  },
  {
   "cell_type": "markdown",
   "id": "a2bc4b2a",
   "metadata": {},
   "source": [
    "Como puede verse en el gráfico, a partir de $t = 20$ aproximadamente la diferencia empieza a converger."
   ]
  },
  {
   "cell_type": "code",
   "execution_count": 5,
   "id": "101f7020",
   "metadata": {},
   "outputs": [
    {
     "name": "stdout",
     "output_type": "stream",
     "text": [
      "MatrizRala([ \n",
      "    [ 0 ]\n",
      "    [ 0 ]\n",
      "    [ 0 ]\n",
      "    [ 0 ]\n",
      "    [ 0 ]\n",
      "    [ 4.163336342344337e-17 ]\n",
      "    [ 4.163336342344337e-17 ]\n",
      "    [ 2.0816681711721685e-17 ]\n",
      "    [ 5.551115123125783e-17 ]\n",
      "    [ 2.0816681711721685e-17 ]\n",
      "    [ 0 ]\n",
      "])\n"
     ]
    }
   ],
   "source": [
    "print(p_next-solucion)"
   ]
  },
  {
   "cell_type": "markdown",
   "id": "a7426d0a",
   "metadata": {},
   "source": [
    "Notar que por un tema de truncamiento los valores del método de Gauss-Jordan y el iterativo difieren en niveles despreciables."
   ]
  }
 ],
 "metadata": {
  "kernelspec": {
   "display_name": "Python 3 (ipykernel)",
   "language": "python",
   "name": "python3"
  },
  "language_info": {
   "codemirror_mode": {
    "name": "ipython",
    "version": 3
   },
   "file_extension": ".py",
   "mimetype": "text/x-python",
   "name": "python",
   "nbconvert_exporter": "python",
   "pygments_lexer": "ipython3",
   "version": "3.10.13"
  }
 },
 "nbformat": 4,
 "nbformat_minor": 5
}
