{
 "cells": [
  {
   "cell_type": "code",
   "execution_count": 4,
   "id": "7591b631-09fb-464b-9de5-06715b1f8166",
   "metadata": {},
   "outputs": [
    {
     "name": "stdout",
     "output_type": "stream",
     "text": [
      "The autoreload extension is already loaded. To reload it, use:\n",
      "  %reload_ext autoreload\n"
     ]
    }
   ],
   "source": [
    "%load_ext autoreload\n",
    "%autoreload 2\n",
    "from matricesRalas import MatrizRala\n",
    "from funciones_utiles import norma\n",
    "import matplotlib.pyplot as plt\n",
    "from typing import List, Dict, Tuple"
   ]
  },
  {
   "cell_type": "code",
   "execution_count": 5,
   "id": "ee415cce-b92d-4249-8308-3fd6b2fc9dc6",
   "metadata": {},
   "outputs": [],
   "source": [
    "# Matrices papers\n",
    "import csv\n",
    "\n",
    "N = 0\n",
    "citas_recibidas = {}\n",
    "cantidad_citados = []\n",
    "# citas es un dict que para todo paper me dice quienes lo citaron (lista de ids)\n",
    "# y me dice a cuantos cita en la posición 0\n",
    "\n",
    "with open('papers/papers.csv', newline='') as csvfile:\n",
    "    papers = csv.DictReader(csvfile)\n",
    "    for row in papers:\n",
    "        N+= 1\n",
    "        cantidad_citados.append(0)\n",
    "\n",
    "\n",
    "with open('papers/citas.csv', newline='') as csvfile:\n",
    "    quotations = csv.DictReader(csvfile)\n",
    "    for row in quotations:\n",
    "        citador = int(row[\"from\"])\n",
    "        citado = int(row[\"to\"])\n",
    "\n",
    "        if citado not in citas_recibidas.keys():\n",
    "          citas_recibidas[citado] = [citador]\n",
    "        else:\n",
    "          citas_recibidas[citado].append(citador) \n",
    "        \n",
    "        cantidad_citados[citador] += 1\n",
    "        \n",
    "# Armamos W\n",
    "W = MatrizRala(N,N)\n",
    "for i in citas_recibidas.keys():\n",
    "  for j in citas_recibidas[i]:\n",
    "    W[i, j] = 1\n",
    "\n",
    "# Armamos D\n",
    "D = MatrizRala(N,N)\n",
    "for i in range(N):\n",
    "  if (cantidad_citados[i] != 0):\n",
    "    D[i,i] = 1/cantidad_citados[i]\n",
    "\n",
    "unos = MatrizRala(N,1)\n",
    "for i in range(N):\n",
    "    unos[i,0]=1"
   ]
  },
  {
   "cell_type": "code",
   "execution_count": 15,
   "id": "12e8e795",
   "metadata": {},
   "outputs": [
    {
     "data": {
      "image/png": "[encoded data removed]",
      "text/plain": [
       "<Figure size 640x480 with 1 Axes>"
      ]
     },
     "metadata": {},
     "output_type": "display_data"
    },
    {
     "name": "stdout",
     "output_type": "stream",
     "text": [
      "85\n",
      "2.3816555363964602e-07\n"
     ]
    }
   ],
   "source": [
    "# Método iterativo\n",
    "import time\n",
    "\n",
    "# Recordemos W, D y d\n",
    "epsilon = 1e-6 # Arbitrario\n",
    "\n",
    "d=0.85\n",
    "\n",
    "p_t = MatrizRala(N,1)\n",
    "for i in range(N):\n",
    "    p_t[i,0] = 1/N\n",
    "\n",
    "diferencias = []\n",
    "\n",
    "i = 0\n",
    "\n",
    "while i == 0 or diferencias[i-1] > epsilon:\n",
    "    if (i != 0):\n",
    "        p_t = p_next\n",
    "    \n",
    "    inicio = time.time()\n",
    "    \n",
    "    p_next = unos * ((1 - d) / N) + d * W @ D @ p_t\n",
    "\n",
    "    fin = time.time()\n",
    "\n",
    "    diferencias.append(norma(p_next-p_t))\n",
    "    \n",
    "\n",
    "    i += 1\n",
    "\n",
    "\n",
    "xs = [x for x in range(len(diferencias))]\n",
    "\n",
    "plt.plot(xs, diferencias)\n",
    "plt.show()\n",
    "# Make sure to close the plt object once done\n",
    "plt.close()\n",
    "\n",
    "\n",
    "print(i)\n",
    "print(p_next[0,0])"
   ]
  },
  {
   "cell_type": "code",
   "execution_count": 6,
   "id": "a6f2650a",
   "metadata": {},
   "outputs": [],
   "source": [
    "# SE HALLA EL TOP 10 DE PAPERS SEGUN LA CANTIDAD DE CITADOS\n",
    "\n",
    "diezPopulares: Dict[int, int] = dict() # La clave es el paper y el valor es la cantidad de citas que recibe\n",
    "for paper, lista_citas in citas_recibidas.items():\n",
    "    if len(diezPopulares) < 10:\n",
    "        diezPopulares[paper] = len(lista_citas)\n",
    "    else:\n",
    "        citasMenosPopular: int = 1e10\n",
    "        paperMenosPopular: int = None\n",
    "        for clave, valor in diezPopulares.items():\n",
    "            if valor < citasMenosPopular:\n",
    "                paperMenosPopular = clave\n",
    "                citasMenosPopular = valor\n",
    "\n",
    "        if len(lista_citas) > citasMenosPopular:\n",
    "            diezPopulares.pop(paperMenosPopular)\n",
    "            diezPopulares[paper] = len(lista_citas)"
   ]
  },
  {
   "cell_type": "code",
   "execution_count": 38,
   "id": "ea52e632",
   "metadata": {},
   "outputs": [],
   "source": [
    "diezImpacto: Dict[int, float] = dict()\n",
    "for nro_paper, fila in p_next.filas.items():\n",
    "    valorFinal: float = fila.raiz.valor[1]\n",
    "    if len(diezImpacto) < 10:\n",
    "        diezImpacto[nro_paper] = valorFinal\n",
    "    else:\n",
    "        menosImpacto: int = 1e10\n",
    "        paperMenosImpacto: int = None\n",
    "        for clave, valor in diezImpacto.items():\n",
    "            if valor < menosImpacto:\n",
    "                paperMenosImpacto = clave\n",
    "                menosImpacto = valor\n",
    "\n",
    "        if valorFinal > menosImpacto:\n",
    "            diezImpacto.pop(paperMenosImpacto)\n",
    "            diezImpacto[nro_paper] = valorFinal"
   ]
  },
  {
   "cell_type": "code",
   "execution_count": 39,
   "id": "2d44d19f",
   "metadata": {},
   "outputs": [
    {
     "name": "stdout",
     "output_type": "stream",
     "text": [
      "Busco los nombres de los dos top 10 encontrados...\n",
      "Papers con mayor impacto\n",
      "Paper: The art of computer programming, volume 2 (3rd ed.): seminumerical algorithms, id: 81323, proba:0.0001090987659164113\n",
      "Paper: A method for obtaining digital signatures and public-key cryptosystems, id: 327827, proba:0.00010885138969481051\n",
      "Paper: The art of computer programming, volume 1 (3rd ed.): fundamental algorithms, id: 79620, proba:0.0001067656639101375\n",
      "Paper: A relational model of data for large shared data banks, id: 326368, proba:0.00010480290317944726\n",
      "Paper: Recovery semantics for a DB/DC system, id: 547167, proba:0.00010365818833926049\n",
      "Paper: Recovery scenario for a DB/DC system, id: 552437, proba:0.00010214186810240287\n",
      "Paper: Programming semantics for multiprogrammed computations, id: 322720, proba:6.487399029953157e-05\n",
      "Paper: Principles of interactive computer graphics (2nd ed.), id: 153803, proba:6.257019374152439e-05\n",
      "Paper: Report on the algorithmic language ALGOL 60, id: 328020, proba:5.7524396622674353e-05\n",
      "Paper: Ethernet: distributed packet switching for local computer networks, id: 317300, proba:5.579476649599938e-05\n",
      "\n",
      "\n",
      "Papers con más citas\n",
      "Paper: Introduction to algorithms, id: 453387, citas recibidas:816\n",
      "Paper: Compilers: principles, techniques, and tools, id: 162585, citas recibidas:791\n",
      "Paper: C4.5: programs for machine learning, id: 214951, citas recibidas:648\n",
      "Paper: Smalltalk-80: the language and its implementation, id: 151297, citas recibidas:588\n",
      "Paper: A relational model of data for large shared data banks, id: 326368, citas recibidas:566\n",
      "Paper: Time, clocks, and the ordering of events in a distributed system, id: 319217, citas recibidas:560\n",
      "Paper: The nature of statistical learning theory, id: 586607, citas recibidas:553\n",
      "Paper: Pattern Classification (2nd Edition), id: 311413, citas recibidas:524\n",
      "Paper: The art of computer programming, volume 1 (3rd ed.): fundamental algorithms, id: 79620, citas recibidas:522\n",
      "Paper: The art of computer programming, volume 2 (3rd ed.): seminumerical algorithms, id: 81323, citas recibidas:504\n"
     ]
    }
   ],
   "source": [
    "\n",
    "print(\"Busco los nombres de los dos top 10 encontrados...\")\n",
    "\n",
    "nombresAlgoritmo: List[Tuple[str, int, float]] = []\n",
    "nombresCitasRecibidas: List[Tuple[str, int, int]] = []\n",
    "with open('papers/papers.csv', newline='', encoding=\"utf-8\") as csvfile:\n",
    "    quotations = csv.DictReader(csvfile)\n",
    "    for row in quotations:\n",
    "        if int(row[\"id\"]) in diezPopulares.keys():\n",
    "            nombresCitasRecibidas.append((row[\"titulo\"], int(row[\"id\"]), diezPopulares[int(row[\"id\"])]))\n",
    "        if int(row[\"id\"]) in diezImpacto.keys():\n",
    "            nombresAlgoritmo.append((row[\"titulo\"], int(row[\"id\"]), diezImpacto[int(row[\"id\"])]))\n",
    "\n",
    "nombresAlgoritmo.sort(key=lambda x : x[2], reverse=True)\n",
    "\n",
    "print(\"Papers con mayor impacto\")\n",
    "for nombre in nombresAlgoritmo: \n",
    "    print(f\"Paper: {nombre[0]}, id: {nombre[1]}, proba:{nombre[2]}\")\n",
    "\n",
    "nombresCitasRecibidas.sort(key=lambda x : x[2], reverse=True)\n",
    "\n",
    "print(\"\\n\")\n",
    "print(\"Papers con más citas\")\n",
    "for nombre in nombresCitasRecibidas: \n",
    "    print(f\"Paper: {nombre[0]}, id: {nombre[1]}, citas recibidas:{nombre[2]}\")\n"
   ]
  }
 ],
 "metadata": {
  "kernelspec": {
   "display_name": "Python 3 (ipykernel)",
   "language": "python",
   "name": "python3"
  },
  "language_info": {
   "codemirror_mode": {
    "name": "ipython",
    "version": 3
   },
   "file_extension": ".py",
   "mimetype": "text/x-python",
   "name": "python",
   "nbconvert_exporter": "python",
   "pygments_lexer": "ipython3",
   "version": "3.10.13"
  }
 },
 "nbformat": 4,
 "nbformat_minor": 5
}
