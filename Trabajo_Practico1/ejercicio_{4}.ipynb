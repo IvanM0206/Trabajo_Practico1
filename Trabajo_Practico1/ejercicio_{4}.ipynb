{
 "cells": [
  {
   "cell_type": "markdown",
   "id": "ef2e55e3",
   "metadata": {},
   "source": [
    "# Ejercicio 4\n",
    "Iván Mondrzak y Federico Peitti"
   ]
  },
  {
   "cell_type": "code",
   "execution_count": 1,
   "id": "7591b631-09fb-464b-9de5-06715b1f8166",
   "metadata": {},
   "outputs": [],
   "source": [
    "from matricesRalas import MatrizRala\n",
    "from funciones_utiles import norma\n",
    "import matplotlib.pyplot as plt\n",
    "from typing import List, Tuple"
   ]
  },
  {
   "cell_type": "markdown",
   "id": "e4f8e7ac",
   "metadata": {},
   "source": [
    "Ahora tomemos el dataset de papers y realicemos un aálisis similar para este caso. Dado la gran cantidad $N$ de papers $(\\approx 600.000)$, vamos a resolver el sistema solamente de forma iterativa, ya que utilizando Gauss-Jordan (es decir, considerando $\\textbf{p*} = \\textbf{p}_{t} = \\textbf{p}_{t+1}$) se tiene una complejidad demasiado grande para utilizar el algoritmo en un tiempo razonable."
   ]
  },
  {
   "cell_type": "markdown",
   "id": "31614079",
   "metadata": {},
   "source": [
    "Recordando del ejercicio 3, se tienen las matrices $W, D  \\in \\mathbb{R}^{N \\times N}$ tales que \n",
    "\n",
    "$$   \n",
    "W_{ij} =\n",
    "\\begin{cases}\n",
    "  1 & \\text{si} \\; j \\;\\text{cita a}\\; i\\\\\n",
    "  0 & \\text{si no}\n",
    "\\end{cases}\n",
    "$$\n",
    "\n",
    "$$   \n",
    "D_{ii} =\n",
    "\\begin{cases}\n",
    "  \\frac{1}{c_{i}} & \\text{si} \\; c_{i} \\neq 0 \\\\\n",
    "  0 & \\text{si} \\; c_{i} = 0\n",
    "\\end{cases}\n",
    "$$\n",
    "\n",
    "En donde $c_{i}$ es la cantidad de citas hechas por el $paper$ $i$:\n",
    "$$\n",
    "c_{i} = \\sum_{k = 0}^{N} W_{ki}\n",
    "$$"
   ]
  },
  {
   "cell_type": "code",
   "execution_count": 2,
   "id": "ee415cce-b92d-4249-8308-3fd6b2fc9dc6",
   "metadata": {},
   "outputs": [],
   "source": [
    "# Matrices papers\n",
    "import csv\n",
    "\n",
    "N = 0\n",
    "citas_recibidas = {}\n",
    "cantidad_citados = []\n",
    "# citas_recibidas es un dict en donde para una clave i contiene una lista con los ids de los papers que citan al paper con id i\n",
    "# cantidad_citados es una lista en donde cantidad_citados[i] contiene a la cantidad de citas realizadas por el paper con id i\n",
    "\n",
    "# Se determina la cantidad de papers que hay\n",
    "with open('papers/papers.csv', newline='', encoding=\"utf-8\") as csvfile:\n",
    "    papers = csv.DictReader(csvfile)\n",
    "    for row in papers:\n",
    "        N += 1\n",
    "        cantidad_citados.append(0)\n",
    "\n",
    "# Se llena citas_recibidas y cantidad_citados\n",
    "with open('papers/citas.csv', newline='', encoding=\"utf-8\") as csvfile:\n",
    "    quotations = csv.DictReader(csvfile)\n",
    "    for row in quotations:\n",
    "        citador = int(row[\"from\"])\n",
    "        citado = int(row[\"to\"])\n",
    "\n",
    "        if citado not in citas_recibidas.keys():\n",
    "          citas_recibidas[citado] = [citador]\n",
    "        else:\n",
    "          citas_recibidas[citado].append(citador) \n",
    "        \n",
    "        cantidad_citados[citador] += 1\n",
    "        \n",
    "# Armamos W\n",
    "W = MatrizRala(N,N)\n",
    "for i in citas_recibidas.keys():\n",
    "  for j in citas_recibidas[i]:\n",
    "    W[i, j] = 1\n",
    "\n",
    "# Armamos D\n",
    "D = MatrizRala(N,N)\n",
    "for i in range(N):\n",
    "  if (cantidad_citados[i] != 0):\n",
    "    D[i,i] = 1/cantidad_citados[i]\n",
    "\n",
    "# Armamos el vector de 1's\n",
    "unos = MatrizRala(N,1)\n",
    "for i in range(N):\n",
    "    unos[i,0] = 1"
   ]
  },
  {
   "cell_type": "markdown",
   "id": "dab82d17",
   "metadata": {},
   "source": [
    "Queremos analizar la convergencia del sistema de forma iterativa. Para ellos iteramos siguiendo la ecuación $\\textbf{p}_{t+1} = \\frac{1-d}{N}*\\mathbb{1} + dWD\\textbf{p}_{t}$  hasta que $\\|(\\textbf{p}_{t+1} - \\textbf{p}_{t})\\| < \\varepsilon$ para algún $\\varepsilon > 0$, en este caso definimos $\\varepsilon = 10^{-6}$ \n",
    "\n",
    "Ademas queremos graficar como se va modificando $\\|(\\textbf{p}_{t+1} - \\textbf{p}_{t})\\|$ entre cada iteracion, es decir queremos ver como se modifica el valor de $\\|(\\textbf{p}_{1} - \\textbf{p}_{0})\\|$ con respecto a $\\|(\\textbf{p}_{2} - \\textbf{p}_{1})\\|$ y asi sucesivamente."
   ]
  },
  {
   "cell_type": "code",
   "execution_count": 8,
   "id": "12e8e795",
   "metadata": {},
   "outputs": [],
   "source": [
    "# Método iterativo\n",
    "\n",
    "# Recordemos W, D y d\n",
    "epsilon = 1e-6 # Arbitrario\n",
    "\n",
    "d=0.85\n",
    "\n",
    "# Construimos p_0\n",
    "p_t = MatrizRala(N,1)\n",
    "for i in range(N):\n",
    "    p_t[i,0] = 1/N\n",
    "\n",
    "# Lista de diferencias de normas.\n",
    "# Para todo i (0 <= i <= |diferencias|) se tiene que, posicion diferencias[i] = norma(p_i+1 - p_i)\n",
    "diferencias = []\n",
    "\n",
    "constante = unos * ((1 - d) / N)\n",
    "matrizMultiplo = d*W@D \n",
    "\n",
    "i = 0\n",
    "\n",
    "while i == 0 or diferencias[i-1] > epsilon:\n",
    "    if (i != 0):\n",
    "        p_t = p_next\n",
    "    \n",
    "    # p_{t+1} = unos * (1-d)/N + d * W @ D @ p_t\n",
    "    p_next = constante + matrizMultiplo @ p_t\n",
    "\n",
    "    diferencias.append(norma(p_next-p_t))\n",
    "\n",
    "    i += 1\n",
    "\n",
    "print(i)\n",
    "# Gráfico de las diferencias\n",
    "xs = [x+1 for x in range(len(diferencias))]\n",
    "graf, ejes = plt.subplots()\n",
    "plt.plot(xs, diferencias, color=\"red\")\n",
    "ejes.set_xlabel(\"Cant. iteraciones (t)\")\n",
    "ejes.set_ylabel(\"Diferencia observada\")\n",
    "ejes.set_xticks([1, 2,4,6,8,10,12,14,16])\n",
    "plt.show()\n",
    "plt.close()"
   ]
  },
  {
   "cell_type": "markdown",
   "id": "9b9f0fd3",
   "metadata": {},
   "source": [
    "Una vez que el sistema convergió, usamos el vector resultante para encontrar cuáles son los 10 papers de mayor impacto. A su vez también primero vemos cuáles son los papers más citados para comparar resultados."
   ]
  },
  {
   "cell_type": "code",
   "execution_count": 4,
   "id": "a6f2650a",
   "metadata": {},
   "outputs": [],
   "source": [
    "# SE HALLA EL TOP 10 DE PAPERS SEGUN LA CANTIDAD DE CITADOS\n",
    "\n",
    "diezPopulares = dict() # La clave es el id del paper y el valor es la cantidad de citas que recibe\n",
    "for paper, lista_citas in citas_recibidas.items():\n",
    "    if len(diezPopulares) < 10:\n",
    "        diezPopulares[paper] = len(lista_citas)\n",
    "    else:\n",
    "        citasMenosPopular = 1e10\n",
    "        paperMenosPopular: int = None\n",
    "        for clave, valor in diezPopulares.items():\n",
    "            if valor < citasMenosPopular:\n",
    "                paperMenosPopular = clave\n",
    "                citasMenosPopular = valor\n",
    "\n",
    "        if len(lista_citas) > citasMenosPopular:\n",
    "            diezPopulares.pop(paperMenosPopular)\n",
    "            diezPopulares[paper] = len(lista_citas)"
   ]
  },
  {
   "cell_type": "code",
   "execution_count": 6,
   "id": "ea52e632",
   "metadata": {},
   "outputs": [],
   "source": [
    "# SE HALLA EL TOP 10 DE PAPERS SEGUN EL ALGORITMO PAGERANK\n",
    "\n",
    "diezImpacto = dict() # La clave es el id del paper y el valor es el correspondiente a ese paper en el vector p\n",
    "for nro_paper, fila in p_next.filas.items():\n",
    "    valorFinal: float = fila.raiz.valor[1]\n",
    "    if len(diezImpacto) < 10:\n",
    "        diezImpacto[nro_paper] = valorFinal\n",
    "    else:\n",
    "        menosImpacto: int = 1e10\n",
    "        paperMenosImpacto: int = None\n",
    "        for clave, valor in diezImpacto.items():\n",
    "            if valor < menosImpacto:\n",
    "                paperMenosImpacto = clave\n",
    "                menosImpacto = valor\n",
    "\n",
    "        if valorFinal > menosImpacto:\n",
    "            diezImpacto.pop(paperMenosImpacto)\n",
    "            diezImpacto[nro_paper] = valorFinal"
   ]
  },
  {
   "cell_type": "code",
   "execution_count": 7,
   "id": "2d44d19f",
   "metadata": {},
   "outputs": [
    {
     "name": "stdout",
     "output_type": "stream",
     "text": [
      "Papers con mayor impacto\n",
      "Paper: The art of computer programming, volume 2 (3rd ed.): seminumerical algorithms, id: 81323, proba:0.00010909876591641158\n",
      "Paper: A method for obtaining digital signatures and public-key cryptosystems, id: 327827, proba:0.00010885138969481094\n",
      "Paper: The art of computer programming, volume 1 (3rd ed.): fundamental algorithms, id: 79620, proba:0.00010676566391013752\n",
      "Paper: A relational model of data for large shared data banks, id: 326368, proba:0.00010480290317959365\n",
      "Paper: Recovery semantics for a DB/DC system, id: 547167, proba:0.00010365819307501327\n",
      "Paper: Recovery scenario for a DB/DC system, id: 552437, proba:0.00010214186336663384\n",
      "Paper: Programming semantics for multiprogrammed computations, id: 322720, proba:6.487399029953278e-05\n",
      "Paper: Principles of interactive computer graphics (2nd ed.), id: 153803, proba:6.25701937415244e-05\n",
      "Paper: Report on the algorithmic language ALGOL 60, id: 328020, proba:5.752439662268067e-05\n",
      "Paper: Ethernet: distributed packet switching for local computer networks, id: 317300, proba:5.5794766496000224e-05\n",
      "\n",
      "\n",
      "Papers con más citas\n",
      "Paper: Introduction to algorithms, id: 453387, citas recibidas:816\n",
      "Paper: Compilers: principles, techniques, and tools, id: 162585, citas recibidas:791\n",
      "Paper: C4.5: programs for machine learning, id: 214951, citas recibidas:648\n",
      "Paper: Smalltalk-80: the language and its implementation, id: 151297, citas recibidas:588\n",
      "Paper: A relational model of data for large shared data banks, id: 326368, citas recibidas:566\n",
      "Paper: Time, clocks, and the ordering of events in a distributed system, id: 319217, citas recibidas:560\n",
      "Paper: The nature of statistical learning theory, id: 586607, citas recibidas:553\n",
      "Paper: Pattern Classification (2nd Edition), id: 311413, citas recibidas:524\n",
      "Paper: The art of computer programming, volume 1 (3rd ed.): fundamental algorithms, id: 79620, citas recibidas:522\n",
      "Paper: The art of computer programming, volume 2 (3rd ed.): seminumerical algorithms, id: 81323, citas recibidas:504\n"
     ]
    }
   ],
   "source": [
    "\n",
    "# Con esto, identificamos los papers para cada ranking\n",
    "\n",
    "nombresAlgoritmo: List[Tuple[str, int, float]] = []\n",
    "nombresCitasRecibidas: List[Tuple[str, int, int]] = []\n",
    "with open('papers/papers.csv', newline='', encoding=\"utf-8\") as csvfile:\n",
    "    quotations = csv.DictReader(csvfile)\n",
    "    for row in quotations:\n",
    "        if int(row[\"id\"]) in diezPopulares.keys():\n",
    "            nombresCitasRecibidas.append((row[\"titulo\"], int(row[\"id\"]), diezPopulares[int(row[\"id\"])]))\n",
    "        if int(row[\"id\"]) in diezImpacto.keys():\n",
    "            nombresAlgoritmo.append((row[\"titulo\"], int(row[\"id\"]), diezImpacto[int(row[\"id\"])]))\n",
    "\n",
    "nombresAlgoritmo.sort(key=lambda x : x[2], reverse=True)\n",
    "\n",
    "print(\"Papers con mayor impacto\")\n",
    "for nombre in nombresAlgoritmo: \n",
    "    print(f\"Paper: {nombre[0]}, id: {nombre[1]}, proba:{nombre[2]}\")\n",
    "\n",
    "nombresCitasRecibidas.sort(key=lambda x : x[2], reverse=True)\n",
    "\n",
    "print(\"\\n\")\n",
    "print(\"Papers con más citas\")\n",
    "for nombre in nombresCitasRecibidas: \n",
    "    print(f\"Paper: {nombre[0]}, id: {nombre[1]}, citas recibidas:{nombre[2]}\")\n"
   ]
  },
  {
   "cell_type": "markdown",
   "id": "f463ed1a",
   "metadata": {},
   "source": [
    "Como puede observarse, según el algoritmo el paper con mayor impacto es \"The art of computer programming, volume 2 (3rd ed.)\". Luego, el paper más citado es \"Introduction to algorithms\". Esto indica que $PageRank$ no se guía únicamente por la cantidad de citas recibidas, si no que también por la calidad de las mismas."
   ]
  }
 ],
 "metadata": {
  "kernelspec": {
   "display_name": "Python 3 (ipykernel)",
   "language": "python",
   "name": "python3"
  },
  "language_info": {
   "codemirror_mode": {
    "name": "ipython",
    "version": 3
   },
   "file_extension": ".py",
   "mimetype": "text/x-python",
   "name": "python",
   "nbconvert_exporter": "python",
   "pygments_lexer": "ipython3",
   "version": "3.10.13"
  }
 },
 "nbformat": 4,
 "nbformat_minor": 5
}
